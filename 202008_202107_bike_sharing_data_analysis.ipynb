{
 "cells": [
  {
   "cell_type": "markdown",
   "metadata": {},
   "source": [
    "# Libraries"
   ]
  },
  {
   "cell_type": "code",
   "execution_count": 27,
   "metadata": {},
   "outputs": [],
   "source": [
    "import pandas as pd\n",
    "import numpy as np\n",
    "import matplotlib.pyplot as plt\n",
    "import seaborn as sns"
   ]
  },
  {
   "cell_type": "markdown",
   "metadata": {},
   "source": [
    "# Data import and cleaning\n",
    "### Check if columns are the same in all files"
   ]
  },
  {
   "cell_type": "code",
   "execution_count": 2,
   "metadata": {},
   "outputs": [
    {
     "name": "stdout",
     "output_type": "stream",
     "text": [
      "file 1 columns: ['ride_id', 'rideable_type', 'started_at', 'ended_at', 'start_station_name', 'start_station_id', 'end_station_name', 'end_station_id', 'start_lat', 'start_lng', 'end_lat', 'end_lng', 'member_casual']\n",
      "file 2 columns: ['ride_id', 'rideable_type', 'started_at', 'ended_at', 'start_station_name', 'start_station_id', 'end_station_name', 'end_station_id', 'start_lat', 'start_lng', 'end_lat', 'end_lng', 'member_casual']\n",
      "file 3 columns: ['ride_id', 'rideable_type', 'started_at', 'ended_at', 'start_station_name', 'start_station_id', 'end_station_name', 'end_station_id', 'start_lat', 'start_lng', 'end_lat', 'end_lng', 'member_casual']\n",
      "file 4 columns: ['ride_id', 'rideable_type', 'started_at', 'ended_at', 'start_station_name', 'start_station_id', 'end_station_name', 'end_station_id', 'start_lat', 'start_lng', 'end_lat', 'end_lng', 'member_casual']\n",
      "file 5 columns: ['ride_id', 'rideable_type', 'started_at', 'ended_at', 'start_station_name', 'start_station_id', 'end_station_name', 'end_station_id', 'start_lat', 'start_lng', 'end_lat', 'end_lng', 'member_casual']\n",
      "file 6 columns: ['ride_id', 'rideable_type', 'started_at', 'ended_at', 'start_station_name', 'start_station_id', 'end_station_name', 'end_station_id', 'start_lat', 'start_lng', 'end_lat', 'end_lng', 'member_casual']\n",
      "file 7 columns: ['ride_id', 'rideable_type', 'started_at', 'ended_at', 'start_station_name', 'start_station_id', 'end_station_name', 'end_station_id', 'start_lat', 'start_lng', 'end_lat', 'end_lng', 'member_casual']\n",
      "file 8 columns: ['ride_id', 'rideable_type', 'started_at', 'ended_at', 'start_station_name', 'start_station_id', 'end_station_name', 'end_station_id', 'start_lat', 'start_lng', 'end_lat', 'end_lng', 'member_casual']\n",
      "file 9 columns: ['ride_id', 'rideable_type', 'started_at', 'ended_at', 'start_station_name', 'start_station_id', 'end_station_name', 'end_station_id', 'start_lat', 'start_lng', 'end_lat', 'end_lng', 'member_casual']\n",
      "file 10 columns: ['ride_id', 'rideable_type', 'started_at', 'ended_at', 'start_station_name', 'start_station_id', 'end_station_name', 'end_station_id', 'start_lat', 'start_lng', 'end_lat', 'end_lng', 'member_casual']\n",
      "file 11 columns: ['ride_id', 'rideable_type', 'started_at', 'ended_at', 'start_station_name', 'start_station_id', 'end_station_name', 'end_station_id', 'start_lat', 'start_lng', 'end_lat', 'end_lng', 'member_casual']\n",
      "file 12 columns: ['ride_id', 'rideable_type', 'started_at', 'ended_at', 'start_station_name', 'start_station_id', 'end_station_name', 'end_station_id', 'start_lat', 'start_lng', 'end_lat', 'end_lng', 'member_casual']\n"
     ]
    }
   ],
   "source": [
    "starting_month = 7\n",
    "starting_year = 2020\n",
    "n_files = 12\n",
    "\n",
    "for i in range(n_files):\n",
    "    month = (starting_month + i) % 12 + 1\n",
    "    year = starting_year + ((starting_month + i) // 12)\n",
    "    month = str(month)\n",
    "    if len(month) < 2:\n",
    "        month = \"0\" + month\n",
    "    else:\n",
    "        pass\n",
    "#     print(f\"{year}{month}-divvy-tripdata.csv\")\n",
    "    df_temp = pd.read_parquet(f\"data/{year}{month}-divvy-tripdata.parquet\")\n",
    "    print(\"file\", i+1, \"columns:\", df_temp.columns.tolist())"
   ]
  },
  {
   "cell_type": "markdown",
   "metadata": {},
   "source": [
    "All columns are the same which means that the data can be concatenated.\n",
    "### Concatenate files"
   ]
  },
  {
   "cell_type": "code",
   "execution_count": 3,
   "metadata": {},
   "outputs": [],
   "source": [
    "df_bikes = pd.DataFrame()\n",
    "\n",
    "for i in range(n_files):\n",
    "    month = (starting_month + i) % 12 + 1\n",
    "    year = starting_year + ((starting_month + i) // 12)\n",
    "    month = str(month)\n",
    "    if len(month) < 2:\n",
    "        month = \"0\" + month\n",
    "    else:\n",
    "        pass\n",
    "    df_temp = pd.read_parquet(f\"data/{year}{month}-divvy-tripdata.parquet\")\n",
    "    df_bikes = pd.concat([df_bikes, df_temp])"
   ]
  },
  {
   "cell_type": "code",
   "execution_count": 4,
   "metadata": {},
   "outputs": [
    {
     "data": {
      "text/plain": [
       "(4731081, 13)"
      ]
     },
     "execution_count": 4,
     "metadata": {},
     "output_type": "execute_result"
    }
   ],
   "source": [
    "df_bikes.shape"
   ]
  },
  {
   "cell_type": "code",
   "execution_count": 5,
   "metadata": {},
   "outputs": [
    {
     "data": {
      "text/html": [
       "<div>\n",
       "<style scoped>\n",
       "    .dataframe tbody tr th:only-of-type {\n",
       "        vertical-align: middle;\n",
       "    }\n",
       "\n",
       "    .dataframe tbody tr th {\n",
       "        vertical-align: top;\n",
       "    }\n",
       "\n",
       "    .dataframe thead th {\n",
       "        text-align: right;\n",
       "    }\n",
       "</style>\n",
       "<table border=\"1\" class=\"dataframe\">\n",
       "  <thead>\n",
       "    <tr style=\"text-align: right;\">\n",
       "      <th></th>\n",
       "      <th>ride_id</th>\n",
       "      <th>rideable_type</th>\n",
       "      <th>started_at</th>\n",
       "      <th>ended_at</th>\n",
       "      <th>start_station_name</th>\n",
       "      <th>start_station_id</th>\n",
       "      <th>end_station_name</th>\n",
       "      <th>end_station_id</th>\n",
       "      <th>start_lat</th>\n",
       "      <th>start_lng</th>\n",
       "      <th>end_lat</th>\n",
       "      <th>end_lng</th>\n",
       "      <th>member_casual</th>\n",
       "    </tr>\n",
       "  </thead>\n",
       "  <tbody>\n",
       "    <tr>\n",
       "      <th>33528</th>\n",
       "      <td>3C16D8BC4D6894CE</td>\n",
       "      <td>electric_bike</td>\n",
       "      <td>2021-07-24 09:55:19</td>\n",
       "      <td>2021-07-24 09:55:47</td>\n",
       "      <td>Canal St &amp; Madison St</td>\n",
       "      <td>13341</td>\n",
       "      <td>Canal St &amp; Madison St</td>\n",
       "      <td>13341</td>\n",
       "      <td>41.882072</td>\n",
       "      <td>-87.639386</td>\n",
       "      <td>41.882150</td>\n",
       "      <td>-87.639156</td>\n",
       "      <td>member</td>\n",
       "    </tr>\n",
       "    <tr>\n",
       "      <th>304344</th>\n",
       "      <td>DCB876DF502C68AA</td>\n",
       "      <td>docked_bike</td>\n",
       "      <td>2020-08-11 13:48:25</td>\n",
       "      <td>2020-08-11 15:19:10</td>\n",
       "      <td>Kimbark Ave &amp; 53rd St</td>\n",
       "      <td>322</td>\n",
       "      <td>Shore Dr &amp; 55th St</td>\n",
       "      <td>247</td>\n",
       "      <td>41.799568</td>\n",
       "      <td>-87.594747</td>\n",
       "      <td>41.795212</td>\n",
       "      <td>-87.580715</td>\n",
       "      <td>casual</td>\n",
       "    </tr>\n",
       "    <tr>\n",
       "      <th>197675</th>\n",
       "      <td>EFE0D8D3A282291C</td>\n",
       "      <td>docked_bike</td>\n",
       "      <td>2020-08-06 01:59:01</td>\n",
       "      <td>2020-08-06 03:05:17</td>\n",
       "      <td>State St &amp; Pearson St</td>\n",
       "      <td>106</td>\n",
       "      <td>State St &amp; Pearson St</td>\n",
       "      <td>106</td>\n",
       "      <td>41.897448</td>\n",
       "      <td>-87.628722</td>\n",
       "      <td>41.897448</td>\n",
       "      <td>-87.628722</td>\n",
       "      <td>casual</td>\n",
       "    </tr>\n",
       "    <tr>\n",
       "      <th>260772</th>\n",
       "      <td>D66AEC78E3794794</td>\n",
       "      <td>classic_bike</td>\n",
       "      <td>2021-05-28 16:02:42</td>\n",
       "      <td>2021-05-28 16:14:49</td>\n",
       "      <td>Pine Grove Ave &amp; Irving Park Rd</td>\n",
       "      <td>TA1308000022</td>\n",
       "      <td>None</td>\n",
       "      <td>None</td>\n",
       "      <td>41.954383</td>\n",
       "      <td>-87.648043</td>\n",
       "      <td>41.930000</td>\n",
       "      <td>-87.650000</td>\n",
       "      <td>member</td>\n",
       "    </tr>\n",
       "    <tr>\n",
       "      <th>249706</th>\n",
       "      <td>39377351D9F9054E</td>\n",
       "      <td>docked_bike</td>\n",
       "      <td>2020-08-21 13:58:03</td>\n",
       "      <td>2020-08-21 14:58:16</td>\n",
       "      <td>Dearborn Pkwy &amp; Delaware Pl</td>\n",
       "      <td>140</td>\n",
       "      <td>Marshfield Ave &amp; Cortland St</td>\n",
       "      <td>58</td>\n",
       "      <td>41.898969</td>\n",
       "      <td>-87.629912</td>\n",
       "      <td>41.916017</td>\n",
       "      <td>-87.668879</td>\n",
       "      <td>casual</td>\n",
       "    </tr>\n",
       "    <tr>\n",
       "      <th>62681</th>\n",
       "      <td>C8ECE8A3E55D6EE1</td>\n",
       "      <td>classic_bike</td>\n",
       "      <td>2021-06-08 17:36:32</td>\n",
       "      <td>2021-06-08 17:52:05</td>\n",
       "      <td>Lake Shore Dr &amp; North Blvd</td>\n",
       "      <td>LF-005</td>\n",
       "      <td>Lake Shore Dr &amp; Diversey Pkwy</td>\n",
       "      <td>TA1309000039</td>\n",
       "      <td>41.911722</td>\n",
       "      <td>-87.626804</td>\n",
       "      <td>41.932588</td>\n",
       "      <td>-87.636427</td>\n",
       "      <td>member</td>\n",
       "    </tr>\n",
       "    <tr>\n",
       "      <th>200283</th>\n",
       "      <td>D77583F473B31093</td>\n",
       "      <td>docked_bike</td>\n",
       "      <td>2020-11-08 12:59:28</td>\n",
       "      <td>2020-11-08 13:21:32</td>\n",
       "      <td>Lake Shore Dr &amp; North Blvd</td>\n",
       "      <td>268</td>\n",
       "      <td>Daley Center Plaza</td>\n",
       "      <td>81</td>\n",
       "      <td>41.911722</td>\n",
       "      <td>-87.626804</td>\n",
       "      <td>41.884241</td>\n",
       "      <td>-87.629634</td>\n",
       "      <td>member</td>\n",
       "    </tr>\n",
       "    <tr>\n",
       "      <th>403103</th>\n",
       "      <td>728E276DAFC527E2</td>\n",
       "      <td>docked_bike</td>\n",
       "      <td>2020-08-28 13:22:11</td>\n",
       "      <td>2020-08-28 13:37:17</td>\n",
       "      <td>Marine Dr &amp; Ainslie St</td>\n",
       "      <td>465</td>\n",
       "      <td>Broadway &amp; Barry Ave</td>\n",
       "      <td>300</td>\n",
       "      <td>41.971600</td>\n",
       "      <td>-87.650154</td>\n",
       "      <td>41.937582</td>\n",
       "      <td>-87.644098</td>\n",
       "      <td>member</td>\n",
       "    </tr>\n",
       "    <tr>\n",
       "      <th>337784</th>\n",
       "      <td>AF1A1437283C13F7</td>\n",
       "      <td>docked_bike</td>\n",
       "      <td>2020-08-16 18:29:18</td>\n",
       "      <td>2020-08-16 18:48:16</td>\n",
       "      <td>Lakefront Trail &amp; Wilson Ave</td>\n",
       "      <td>639</td>\n",
       "      <td>Broadway &amp; Belmont Ave</td>\n",
       "      <td>296</td>\n",
       "      <td>41.965845</td>\n",
       "      <td>-87.645361</td>\n",
       "      <td>41.940106</td>\n",
       "      <td>-87.645451</td>\n",
       "      <td>member</td>\n",
       "    </tr>\n",
       "    <tr>\n",
       "      <th>141872</th>\n",
       "      <td>43E520A3DC7FB5D7</td>\n",
       "      <td>electric_bike</td>\n",
       "      <td>2021-06-15 21:21:48</td>\n",
       "      <td>2021-06-15 21:24:46</td>\n",
       "      <td>Southport Ave &amp; Roscoe St</td>\n",
       "      <td>13071</td>\n",
       "      <td>Ashland Ave &amp; Grace St</td>\n",
       "      <td>13319</td>\n",
       "      <td>41.943690</td>\n",
       "      <td>-87.664096</td>\n",
       "      <td>41.950587</td>\n",
       "      <td>-87.668394</td>\n",
       "      <td>member</td>\n",
       "    </tr>\n",
       "  </tbody>\n",
       "</table>\n",
       "</div>"
      ],
      "text/plain": [
       "                 ride_id  rideable_type           started_at  \\\n",
       "33528   3C16D8BC4D6894CE  electric_bike  2021-07-24 09:55:19   \n",
       "304344  DCB876DF502C68AA    docked_bike  2020-08-11 13:48:25   \n",
       "197675  EFE0D8D3A282291C    docked_bike  2020-08-06 01:59:01   \n",
       "260772  D66AEC78E3794794   classic_bike  2021-05-28 16:02:42   \n",
       "249706  39377351D9F9054E    docked_bike  2020-08-21 13:58:03   \n",
       "62681   C8ECE8A3E55D6EE1   classic_bike  2021-06-08 17:36:32   \n",
       "200283  D77583F473B31093    docked_bike  2020-11-08 12:59:28   \n",
       "403103  728E276DAFC527E2    docked_bike  2020-08-28 13:22:11   \n",
       "337784  AF1A1437283C13F7    docked_bike  2020-08-16 18:29:18   \n",
       "141872  43E520A3DC7FB5D7  electric_bike  2021-06-15 21:21:48   \n",
       "\n",
       "                   ended_at               start_station_name start_station_id  \\\n",
       "33528   2021-07-24 09:55:47            Canal St & Madison St            13341   \n",
       "304344  2020-08-11 15:19:10            Kimbark Ave & 53rd St              322   \n",
       "197675  2020-08-06 03:05:17            State St & Pearson St              106   \n",
       "260772  2021-05-28 16:14:49  Pine Grove Ave & Irving Park Rd     TA1308000022   \n",
       "249706  2020-08-21 14:58:16      Dearborn Pkwy & Delaware Pl              140   \n",
       "62681   2021-06-08 17:52:05       Lake Shore Dr & North Blvd           LF-005   \n",
       "200283  2020-11-08 13:21:32       Lake Shore Dr & North Blvd              268   \n",
       "403103  2020-08-28 13:37:17           Marine Dr & Ainslie St              465   \n",
       "337784  2020-08-16 18:48:16     Lakefront Trail & Wilson Ave              639   \n",
       "141872  2021-06-15 21:24:46        Southport Ave & Roscoe St            13071   \n",
       "\n",
       "                     end_station_name end_station_id  start_lat  start_lng  \\\n",
       "33528           Canal St & Madison St          13341  41.882072 -87.639386   \n",
       "304344             Shore Dr & 55th St            247  41.799568 -87.594747   \n",
       "197675          State St & Pearson St            106  41.897448 -87.628722   \n",
       "260772                           None           None  41.954383 -87.648043   \n",
       "249706   Marshfield Ave & Cortland St             58  41.898969 -87.629912   \n",
       "62681   Lake Shore Dr & Diversey Pkwy   TA1309000039  41.911722 -87.626804   \n",
       "200283             Daley Center Plaza             81  41.911722 -87.626804   \n",
       "403103           Broadway & Barry Ave            300  41.971600 -87.650154   \n",
       "337784         Broadway & Belmont Ave            296  41.965845 -87.645361   \n",
       "141872         Ashland Ave & Grace St          13319  41.943690 -87.664096   \n",
       "\n",
       "          end_lat    end_lng member_casual  \n",
       "33528   41.882150 -87.639156        member  \n",
       "304344  41.795212 -87.580715        casual  \n",
       "197675  41.897448 -87.628722        casual  \n",
       "260772  41.930000 -87.650000        member  \n",
       "249706  41.916017 -87.668879        casual  \n",
       "62681   41.932588 -87.636427        member  \n",
       "200283  41.884241 -87.629634        member  \n",
       "403103  41.937582 -87.644098        member  \n",
       "337784  41.940106 -87.645451        member  \n",
       "141872  41.950587 -87.668394        member  "
      ]
     },
     "execution_count": 5,
     "metadata": {},
     "output_type": "execute_result"
    }
   ],
   "source": [
    "df_bikes.sample(10, random_state=13)"
   ]
  },
  {
   "cell_type": "code",
   "execution_count": 6,
   "metadata": {},
   "outputs": [
    {
     "name": "stdout",
     "output_type": "stream",
     "text": [
      "<class 'pandas.core.frame.DataFrame'>\n",
      "Int64Index: 4731081 entries, 0 to 822409\n",
      "Data columns (total 13 columns):\n",
      " #   Column              Dtype  \n",
      "---  ------              -----  \n",
      " 0   ride_id             object \n",
      " 1   rideable_type       object \n",
      " 2   started_at          object \n",
      " 3   ended_at            object \n",
      " 4   start_station_name  object \n",
      " 5   start_station_id    object \n",
      " 6   end_station_name    object \n",
      " 7   end_station_id      object \n",
      " 8   start_lat           float64\n",
      " 9   start_lng           float64\n",
      " 10  end_lat             float64\n",
      " 11  end_lng             float64\n",
      " 12  member_casual       object \n",
      "dtypes: float64(4), object(9)\n",
      "memory usage: 505.3+ MB\n"
     ]
    }
   ],
   "source": [
    "df_bikes.info()"
   ]
  },
  {
   "cell_type": "code",
   "execution_count": 7,
   "metadata": {},
   "outputs": [
    {
     "data": {
      "text/plain": [
       "ride_id                    0\n",
       "rideable_type              0\n",
       "started_at                 0\n",
       "ended_at                   0\n",
       "start_station_name    369182\n",
       "start_station_id      369804\n",
       "end_station_name      407300\n",
       "end_station_id        407759\n",
       "start_lat                  0\n",
       "start_lng                  0\n",
       "end_lat                 5247\n",
       "end_lng                 5247\n",
       "member_casual              0\n",
       "dtype: int64"
      ]
     },
     "execution_count": 7,
     "metadata": {},
     "output_type": "execute_result"
    }
   ],
   "source": [
    "df_bikes.isna().sum()"
   ]
  },
  {
   "cell_type": "markdown",
   "metadata": {},
   "source": [
    "It seems as though there are some missing values in case of stateio_id columns, however, it is possible that this is due to the fact that the user didn't leave the bike in a station but in open field. It is possible that this is also the case for the latitude and logitude columns. Because this is not the topic of this analysis, this will not be explored further.\n",
    "\n",
    "Sadly we don't have a unique identifier for each user which means that we can't complete an analysis which would be of great importance. If there were a unique ID in the data, it would allow for calculating the sum of rides each user has completed during the year and perhaps find a target for advertising to convert from casual riders to annual members. This is most important as according to the [divvy website](https://www.divvybikes.com/pricing) a single ride costs 3.30 dollars and an annual membership costs 108 dollars.\n",
    "\n",
    "A few problems which need to be addressed:\n",
    "- the ```started_at``` and ```ended_at``` columns have to be converted to datetime\n",
    "\n",
    "To be done:\n",
    "- check what are unique values for the ```member_casual``` column. Make sure that there are only 2\n",
    "- calculate length of each ride\n",
    "- calculate summary statistics for both ```member_casual``` types\n",
    "- see if there are any trends"
   ]
  },
  {
   "cell_type": "code",
   "execution_count": 9,
   "metadata": {},
   "outputs": [],
   "source": [
    "df_bikes_cleaned = df_bikes.copy()\n",
    "\n",
    "df_bikes_cleaned[\"started_at\"] = pd.to_datetime(df_bikes_cleaned[\"started_at\"].str.strip(), errors=\"coerce\")\n",
    "df_bikes_cleaned[\"ended_at\"] = pd.to_datetime(df_bikes_cleaned[\"ended_at\"].str.strip(), errors=\"coerce\")"
   ]
  },
  {
   "cell_type": "markdown",
   "metadata": {},
   "source": [
    "Double-check results"
   ]
  },
  {
   "cell_type": "code",
   "execution_count": 11,
   "metadata": {},
   "outputs": [
    {
     "data": {
      "text/plain": [
       "started_at    0\n",
       "ended_at      0\n",
       "dtype: int64"
      ]
     },
     "execution_count": 11,
     "metadata": {},
     "output_type": "execute_result"
    }
   ],
   "source": [
    "df_bikes_cleaned[[\"started_at\", \"ended_at\"]].isna().sum()"
   ]
  },
  {
   "cell_type": "code",
   "execution_count": 61,
   "metadata": {},
   "outputs": [
    {
     "data": {
      "text/html": [
       "<div>\n",
       "<style scoped>\n",
       "    .dataframe tbody tr th:only-of-type {\n",
       "        vertical-align: middle;\n",
       "    }\n",
       "\n",
       "    .dataframe tbody tr th {\n",
       "        vertical-align: top;\n",
       "    }\n",
       "\n",
       "    .dataframe thead th {\n",
       "        text-align: right;\n",
       "    }\n",
       "</style>\n",
       "<table border=\"1\" class=\"dataframe\">\n",
       "  <thead>\n",
       "    <tr style=\"text-align: right;\">\n",
       "      <th></th>\n",
       "      <th>started_at</th>\n",
       "      <th>ended_at</th>\n",
       "    </tr>\n",
       "  </thead>\n",
       "  <tbody>\n",
       "    <tr>\n",
       "      <th>33528</th>\n",
       "      <td>2021-07-24 09:55:19</td>\n",
       "      <td>2021-07-24 09:55:47</td>\n",
       "    </tr>\n",
       "    <tr>\n",
       "      <th>304344</th>\n",
       "      <td>2020-08-11 13:48:25</td>\n",
       "      <td>2020-08-11 15:19:10</td>\n",
       "    </tr>\n",
       "    <tr>\n",
       "      <th>197675</th>\n",
       "      <td>2020-08-06 01:59:01</td>\n",
       "      <td>2020-08-06 03:05:17</td>\n",
       "    </tr>\n",
       "    <tr>\n",
       "      <th>260772</th>\n",
       "      <td>2021-05-28 16:02:42</td>\n",
       "      <td>2021-05-28 16:14:49</td>\n",
       "    </tr>\n",
       "    <tr>\n",
       "      <th>249706</th>\n",
       "      <td>2020-08-21 13:58:03</td>\n",
       "      <td>2020-08-21 14:58:16</td>\n",
       "    </tr>\n",
       "    <tr>\n",
       "      <th>62681</th>\n",
       "      <td>2021-06-08 17:36:32</td>\n",
       "      <td>2021-06-08 17:52:05</td>\n",
       "    </tr>\n",
       "    <tr>\n",
       "      <th>200283</th>\n",
       "      <td>2020-11-08 12:59:28</td>\n",
       "      <td>2020-11-08 13:21:32</td>\n",
       "    </tr>\n",
       "    <tr>\n",
       "      <th>403103</th>\n",
       "      <td>2020-08-28 13:22:11</td>\n",
       "      <td>2020-08-28 13:37:17</td>\n",
       "    </tr>\n",
       "    <tr>\n",
       "      <th>337784</th>\n",
       "      <td>2020-08-16 18:29:18</td>\n",
       "      <td>2020-08-16 18:48:16</td>\n",
       "    </tr>\n",
       "    <tr>\n",
       "      <th>141872</th>\n",
       "      <td>2021-06-15 21:21:48</td>\n",
       "      <td>2021-06-15 21:24:46</td>\n",
       "    </tr>\n",
       "  </tbody>\n",
       "</table>\n",
       "</div>"
      ],
      "text/plain": [
       "                started_at            ended_at\n",
       "33528  2021-07-24 09:55:19 2021-07-24 09:55:47\n",
       "304344 2020-08-11 13:48:25 2020-08-11 15:19:10\n",
       "197675 2020-08-06 01:59:01 2020-08-06 03:05:17\n",
       "260772 2021-05-28 16:02:42 2021-05-28 16:14:49\n",
       "249706 2020-08-21 13:58:03 2020-08-21 14:58:16\n",
       "62681  2021-06-08 17:36:32 2021-06-08 17:52:05\n",
       "200283 2020-11-08 12:59:28 2020-11-08 13:21:32\n",
       "403103 2020-08-28 13:22:11 2020-08-28 13:37:17\n",
       "337784 2020-08-16 18:29:18 2020-08-16 18:48:16\n",
       "141872 2021-06-15 21:21:48 2021-06-15 21:24:46"
      ]
     },
     "execution_count": 61,
     "metadata": {},
     "output_type": "execute_result"
    }
   ],
   "source": [
    "df_bikes_cleaned[[\"started_at\", \"ended_at\"]].sample(10, random_state=13)"
   ]
  },
  {
   "cell_type": "code",
   "execution_count": 12,
   "metadata": {},
   "outputs": [
    {
     "data": {
      "text/html": [
       "<div>\n",
       "<style scoped>\n",
       "    .dataframe tbody tr th:only-of-type {\n",
       "        vertical-align: middle;\n",
       "    }\n",
       "\n",
       "    .dataframe tbody tr th {\n",
       "        vertical-align: top;\n",
       "    }\n",
       "\n",
       "    .dataframe thead th {\n",
       "        text-align: right;\n",
       "    }\n",
       "</style>\n",
       "<table border=\"1\" class=\"dataframe\">\n",
       "  <thead>\n",
       "    <tr style=\"text-align: right;\">\n",
       "      <th></th>\n",
       "      <th>started_at</th>\n",
       "      <th>ended_at</th>\n",
       "    </tr>\n",
       "  </thead>\n",
       "  <tbody>\n",
       "    <tr>\n",
       "      <th>33528</th>\n",
       "      <td>2021-07-24 09:55:19</td>\n",
       "      <td>2021-07-24 09:55:47</td>\n",
       "    </tr>\n",
       "    <tr>\n",
       "      <th>304344</th>\n",
       "      <td>2020-08-11 13:48:25</td>\n",
       "      <td>2020-08-11 15:19:10</td>\n",
       "    </tr>\n",
       "    <tr>\n",
       "      <th>197675</th>\n",
       "      <td>2020-08-06 01:59:01</td>\n",
       "      <td>2020-08-06 03:05:17</td>\n",
       "    </tr>\n",
       "    <tr>\n",
       "      <th>260772</th>\n",
       "      <td>2021-05-28 16:02:42</td>\n",
       "      <td>2021-05-28 16:14:49</td>\n",
       "    </tr>\n",
       "    <tr>\n",
       "      <th>249706</th>\n",
       "      <td>2020-08-21 13:58:03</td>\n",
       "      <td>2020-08-21 14:58:16</td>\n",
       "    </tr>\n",
       "    <tr>\n",
       "      <th>62681</th>\n",
       "      <td>2021-06-08 17:36:32</td>\n",
       "      <td>2021-06-08 17:52:05</td>\n",
       "    </tr>\n",
       "    <tr>\n",
       "      <th>200283</th>\n",
       "      <td>2020-11-08 12:59:28</td>\n",
       "      <td>2020-11-08 13:21:32</td>\n",
       "    </tr>\n",
       "    <tr>\n",
       "      <th>403103</th>\n",
       "      <td>2020-08-28 13:22:11</td>\n",
       "      <td>2020-08-28 13:37:17</td>\n",
       "    </tr>\n",
       "    <tr>\n",
       "      <th>337784</th>\n",
       "      <td>2020-08-16 18:29:18</td>\n",
       "      <td>2020-08-16 18:48:16</td>\n",
       "    </tr>\n",
       "    <tr>\n",
       "      <th>141872</th>\n",
       "      <td>2021-06-15 21:21:48</td>\n",
       "      <td>2021-06-15 21:24:46</td>\n",
       "    </tr>\n",
       "  </tbody>\n",
       "</table>\n",
       "</div>"
      ],
      "text/plain": [
       "                 started_at             ended_at\n",
       "33528   2021-07-24 09:55:19  2021-07-24 09:55:47\n",
       "304344  2020-08-11 13:48:25  2020-08-11 15:19:10\n",
       "197675  2020-08-06 01:59:01  2020-08-06 03:05:17\n",
       "260772  2021-05-28 16:02:42  2021-05-28 16:14:49\n",
       "249706  2020-08-21 13:58:03  2020-08-21 14:58:16\n",
       "62681   2021-06-08 17:36:32  2021-06-08 17:52:05\n",
       "200283  2020-11-08 12:59:28  2020-11-08 13:21:32\n",
       "403103  2020-08-28 13:22:11  2020-08-28 13:37:17\n",
       "337784  2020-08-16 18:29:18  2020-08-16 18:48:16\n",
       "141872  2021-06-15 21:21:48  2021-06-15 21:24:46"
      ]
     },
     "execution_count": 12,
     "metadata": {},
     "output_type": "execute_result"
    }
   ],
   "source": [
    "df_bikes[[\"started_at\", \"ended_at\"]].sample(10, random_state=13)"
   ]
  },
  {
   "cell_type": "code",
   "execution_count": 13,
   "metadata": {},
   "outputs": [],
   "source": [
    "df_bikes_cleaned[\"ride_duration\"] = df_bikes_cleaned[\"ended_at\"] - df_bikes_cleaned[\"started_at\"]"
   ]
  },
  {
   "cell_type": "code",
   "execution_count": 26,
   "metadata": {},
   "outputs": [
    {
     "name": "stdout",
     "output_type": "stream",
     "text": [
      "<class 'pandas.core.frame.DataFrame'>\n",
      "Int64Index: 4731081 entries, 0 to 822409\n",
      "Data columns (total 14 columns):\n",
      " #   Column              Dtype          \n",
      "---  ------              -----          \n",
      " 0   ride_id             object         \n",
      " 1   rideable_type       object         \n",
      " 2   started_at          datetime64[ns] \n",
      " 3   ended_at            datetime64[ns] \n",
      " 4   start_station_name  object         \n",
      " 5   start_station_id    object         \n",
      " 6   end_station_name    object         \n",
      " 7   end_station_id      object         \n",
      " 8   start_lat           float64        \n",
      " 9   start_lng           float64        \n",
      " 10  end_lat             float64        \n",
      " 11  end_lng             float64        \n",
      " 12  member_casual       object         \n",
      " 13  ride_duration       timedelta64[ns]\n",
      "dtypes: datetime64[ns](2), float64(4), object(7), timedelta64[ns](1)\n",
      "memory usage: 541.4+ MB\n"
     ]
    }
   ],
   "source": [
    "df_bikes_cleaned.info()"
   ]
  },
  {
   "cell_type": "code",
   "execution_count": 18,
   "metadata": {},
   "outputs": [
    {
     "data": {
      "text/plain": [
       "array(['member', 'casual'], dtype=object)"
      ]
     },
     "execution_count": 18,
     "metadata": {},
     "output_type": "execute_result"
    }
   ],
   "source": [
    "df_bikes_cleaned[\"member_casual\"].unique()"
   ]
  },
  {
   "cell_type": "code",
   "execution_count": 19,
   "metadata": {},
   "outputs": [
    {
     "data": {
      "text/plain": [
       "array(['docked_bike', 'electric_bike', 'classic_bike'], dtype=object)"
      ]
     },
     "execution_count": 19,
     "metadata": {},
     "output_type": "execute_result"
    }
   ],
   "source": [
    "df_bikes_cleaned[\"rideable_type\"].unique()"
   ]
  },
  {
   "cell_type": "code",
   "execution_count": 25,
   "metadata": {},
   "outputs": [
    {
     "ename": "DataError",
     "evalue": "No numeric types to aggregate",
     "output_type": "error",
     "traceback": [
      "\u001b[1;31m---------------------------------------------------------------------------\u001b[0m",
      "\u001b[1;31mDataError\u001b[0m                                 Traceback (most recent call last)",
      "\u001b[1;32m<ipython-input-25-ba1a60a8a0e6>\u001b[0m in \u001b[0;36m<module>\u001b[1;34m\u001b[0m\n\u001b[1;32m----> 1\u001b[1;33m \u001b[0mtest\u001b[0m \u001b[1;33m=\u001b[0m \u001b[0mdf_bikes_cleaned\u001b[0m\u001b[1;33m.\u001b[0m\u001b[0mgroupby\u001b[0m\u001b[1;33m(\u001b[0m\u001b[1;33m[\u001b[0m\u001b[1;34m\"member_casual\"\u001b[0m\u001b[1;33m]\u001b[0m\u001b[1;33m)\u001b[0m\u001b[1;33m[\u001b[0m\u001b[1;34m\"ride_duration\"\u001b[0m\u001b[1;33m]\u001b[0m\u001b[1;33m.\u001b[0m\u001b[0mmean\u001b[0m\u001b[1;33m(\u001b[0m\u001b[1;33m)\u001b[0m\u001b[1;33m\u001b[0m\u001b[1;33m\u001b[0m\u001b[0m\n\u001b[0m",
      "\u001b[1;32mC:\\ProgramData\\Anaconda3\\lib\\site-packages\\pandas\\core\\groupby\\groupby.py\u001b[0m in \u001b[0;36mmean\u001b[1;34m(self, numeric_only)\u001b[0m\n\u001b[0;32m   1391\u001b[0m         \u001b[0mName\u001b[0m\u001b[1;33m:\u001b[0m \u001b[0mB\u001b[0m\u001b[1;33m,\u001b[0m \u001b[0mdtype\u001b[0m\u001b[1;33m:\u001b[0m \u001b[0mfloat64\u001b[0m\u001b[1;33m\u001b[0m\u001b[1;33m\u001b[0m\u001b[0m\n\u001b[0;32m   1392\u001b[0m         \"\"\"\n\u001b[1;32m-> 1393\u001b[1;33m         return self._cython_agg_general(\n\u001b[0m\u001b[0;32m   1394\u001b[0m             \u001b[1;34m\"mean\"\u001b[0m\u001b[1;33m,\u001b[0m\u001b[1;33m\u001b[0m\u001b[1;33m\u001b[0m\u001b[0m\n\u001b[0;32m   1395\u001b[0m             \u001b[0malt\u001b[0m\u001b[1;33m=\u001b[0m\u001b[1;32mlambda\u001b[0m \u001b[0mx\u001b[0m\u001b[1;33m,\u001b[0m \u001b[0maxis\u001b[0m\u001b[1;33m:\u001b[0m \u001b[0mSeries\u001b[0m\u001b[1;33m(\u001b[0m\u001b[0mx\u001b[0m\u001b[1;33m)\u001b[0m\u001b[1;33m.\u001b[0m\u001b[0mmean\u001b[0m\u001b[1;33m(\u001b[0m\u001b[0mnumeric_only\u001b[0m\u001b[1;33m=\u001b[0m\u001b[0mnumeric_only\u001b[0m\u001b[1;33m)\u001b[0m\u001b[1;33m,\u001b[0m\u001b[1;33m\u001b[0m\u001b[1;33m\u001b[0m\u001b[0m\n",
      "\u001b[1;32mC:\\ProgramData\\Anaconda3\\lib\\site-packages\\pandas\\core\\groupby\\groupby.py\u001b[0m in \u001b[0;36m_cython_agg_general\u001b[1;34m(self, how, alt, numeric_only, min_count)\u001b[0m\n\u001b[0;32m   1049\u001b[0m \u001b[1;33m\u001b[0m\u001b[0m\n\u001b[0;32m   1050\u001b[0m         \u001b[1;32mif\u001b[0m \u001b[0mlen\u001b[0m\u001b[1;33m(\u001b[0m\u001b[0moutput\u001b[0m\u001b[1;33m)\u001b[0m \u001b[1;33m==\u001b[0m \u001b[1;36m0\u001b[0m\u001b[1;33m:\u001b[0m\u001b[1;33m\u001b[0m\u001b[1;33m\u001b[0m\u001b[0m\n\u001b[1;32m-> 1051\u001b[1;33m             \u001b[1;32mraise\u001b[0m \u001b[0mDataError\u001b[0m\u001b[1;33m(\u001b[0m\u001b[1;34m\"No numeric types to aggregate\"\u001b[0m\u001b[1;33m)\u001b[0m\u001b[1;33m\u001b[0m\u001b[1;33m\u001b[0m\u001b[0m\n\u001b[0m\u001b[0;32m   1052\u001b[0m \u001b[1;33m\u001b[0m\u001b[0m\n\u001b[0;32m   1053\u001b[0m         \u001b[1;32mreturn\u001b[0m \u001b[0mself\u001b[0m\u001b[1;33m.\u001b[0m\u001b[0m_wrap_aggregated_output\u001b[0m\u001b[1;33m(\u001b[0m\u001b[0moutput\u001b[0m\u001b[1;33m,\u001b[0m \u001b[0mindex\u001b[0m\u001b[1;33m=\u001b[0m\u001b[0mself\u001b[0m\u001b[1;33m.\u001b[0m\u001b[0mgrouper\u001b[0m\u001b[1;33m.\u001b[0m\u001b[0mresult_index\u001b[0m\u001b[1;33m)\u001b[0m\u001b[1;33m\u001b[0m\u001b[1;33m\u001b[0m\u001b[0m\n",
      "\u001b[1;31mDataError\u001b[0m: No numeric types to aggregate"
     ]
    }
   ],
   "source": [
    "test = df_bikes_cleaned.groupby([\"member_casual\"])[\"ride_duration\"].mean()\n",
    "\n",
    "dropped['new'] = dropped['diff'].values.astype(np.int64)\n",
    "\n",
    "means = dropped.groupby('bank').mean()\n",
    "means['new'] = pd.to_timedelta(means['new'])\n",
    "\n",
    "std = dropped.groupby('bank').std()\n",
    "std['new'] = pd.to_timedelta(std['new'])"
   ]
  },
  {
   "cell_type": "code",
   "execution_count": 24,
   "metadata": {},
   "outputs": [
    {
     "data": {
      "text/html": [
       "<div>\n",
       "<style scoped>\n",
       "    .dataframe tbody tr th:only-of-type {\n",
       "        vertical-align: middle;\n",
       "    }\n",
       "\n",
       "    .dataframe tbody tr th {\n",
       "        vertical-align: top;\n",
       "    }\n",
       "\n",
       "    .dataframe thead th {\n",
       "        text-align: right;\n",
       "    }\n",
       "</style>\n",
       "<table border=\"1\" class=\"dataframe\">\n",
       "  <thead>\n",
       "    <tr style=\"text-align: right;\">\n",
       "      <th></th>\n",
       "      <th>start_lat</th>\n",
       "      <th>start_lng</th>\n",
       "      <th>end_lat</th>\n",
       "      <th>end_lng</th>\n",
       "    </tr>\n",
       "    <tr>\n",
       "      <th>member_casual</th>\n",
       "      <th></th>\n",
       "      <th></th>\n",
       "      <th></th>\n",
       "      <th></th>\n",
       "    </tr>\n",
       "  </thead>\n",
       "  <tbody>\n",
       "    <tr>\n",
       "      <th>casual</th>\n",
       "      <td>41.901807</td>\n",
       "      <td>-87.642892</td>\n",
       "      <td>41.902226</td>\n",
       "      <td>-87.643172</td>\n",
       "    </tr>\n",
       "    <tr>\n",
       "      <th>member</th>\n",
       "      <td>41.903879</td>\n",
       "      <td>-87.646317</td>\n",
       "      <td>41.904086</td>\n",
       "      <td>-87.646524</td>\n",
       "    </tr>\n",
       "  </tbody>\n",
       "</table>\n",
       "</div>"
      ],
      "text/plain": [
       "               start_lat  start_lng    end_lat    end_lng\n",
       "member_casual                                            \n",
       "casual         41.901807 -87.642892  41.902226 -87.643172\n",
       "member         41.903879 -87.646317  41.904086 -87.646524"
      ]
     },
     "execution_count": 24,
     "metadata": {},
     "output_type": "execute_result"
    }
   ],
   "source": [
    "test"
   ]
  },
  {
   "cell_type": "code",
   "execution_count": null,
   "metadata": {},
   "outputs": [],
   "source": []
  }
 ],
 "metadata": {
  "kernelspec": {
   "display_name": "Python 3",
   "language": "python",
   "name": "python3"
  },
  "language_info": {
   "codemirror_mode": {
    "name": "ipython",
    "version": 3
   },
   "file_extension": ".py",
   "mimetype": "text/x-python",
   "name": "python",
   "nbconvert_exporter": "python",
   "pygments_lexer": "ipython3",
   "version": "3.8.5"
  }
 },
 "nbformat": 4,
 "nbformat_minor": 4
}
