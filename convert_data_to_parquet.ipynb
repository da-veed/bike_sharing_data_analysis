{
 "cells": [
  {
   "cell_type": "markdown",
   "metadata": {},
   "source": [
    "# Libraries"
   ]
  },
  {
   "cell_type": "code",
   "execution_count": 1,
   "metadata": {},
   "outputs": [],
   "source": [
    "import pandas as pd"
   ]
  },
  {
   "cell_type": "markdown",
   "metadata": {},
   "source": [
    "# Test single file import and write"
   ]
  },
  {
   "cell_type": "code",
   "execution_count": 2,
   "metadata": {},
   "outputs": [],
   "source": [
    "df_temp = pd.read_csv(\"data/original/202102-divvy-tripdata.csv\")"
   ]
  },
  {
   "cell_type": "code",
   "execution_count": 3,
   "metadata": {},
   "outputs": [],
   "source": [
    "df_temp.to_parquet(\"202102-divvy-tripdata.parquet\")"
   ]
  },
  {
   "cell_type": "code",
   "execution_count": 4,
   "metadata": {},
   "outputs": [],
   "source": [
    "df_temp2 = pd.read_parquet(\"202102-divvy-tripdata.parquet\")"
   ]
  },
  {
   "cell_type": "code",
   "execution_count": 5,
   "metadata": {},
   "outputs": [
    {
     "data": {
      "text/plain": [
       "ride_id          True\n",
       "rideable_type    True\n",
       "started_at       True\n",
       "ended_at         True\n",
       "start_lat        True\n",
       "start_lng        True\n",
       "end_lat          True\n",
       "end_lng          True\n",
       "member_casual    True\n",
       "dtype: bool"
      ]
     },
     "execution_count": 5,
     "metadata": {},
     "output_type": "execute_result"
    }
   ],
   "source": [
    "# Control sum to test if the data remains the same despite writing to .parquet format\n",
    "df_temp.sum() == df_temp2.sum()"
   ]
  },
  {
   "cell_type": "markdown",
   "metadata": {},
   "source": [
    "# Convert all files from .csv to .parquet\n",
    "In order to stay within the github limit of 100 MB per file all *.csv* files need to be converted to a lighter data format such as *.parquet*."
   ]
  },
  {
   "cell_type": "code",
   "execution_count": 22,
   "metadata": {},
   "outputs": [
    {
     "name": "stdout",
     "output_type": "stream",
     "text": [
      "Converted 1 out of 12 files.\n",
      "Converted 2 out of 12 files.\n",
      "Converted 3 out of 12 files.\n",
      "Converted 4 out of 12 files.\n",
      "Converted 5 out of 12 files.\n",
      "Converted 6 out of 12 files.\n",
      "Converted 7 out of 12 files.\n",
      "Converted 8 out of 12 files.\n",
      "Converted 9 out of 12 files.\n",
      "Converted 10 out of 12 files.\n",
      "Converted 11 out of 12 files.\n",
      "Converted 12 out of 12 files.\n"
     ]
    }
   ],
   "source": [
    "starting_month = 7\n",
    "starting_year = 2020\n",
    "n_files = 12\n",
    "\n",
    "for i in range(n_files):\n",
    "    month = (starting_month + i) % 12 + 1\n",
    "    year = starting_year + ((starting_month + i) // 12)\n",
    "    month = str(month)\n",
    "    if len(month) < 2:\n",
    "        month = \"0\" + month\n",
    "    else:\n",
    "        pass\n",
    "#     print(f\"{year}{month}-divvy-tripdata.csv\")\n",
    "    df_temp = pd.read_csv(f\"data/original/{year}{month}-divvy-tripdata.csv\")\n",
    "    df_temp.to_parquet(f\"data/{year}{month}-divvy-tripdata.parquet\")\n",
    "    print(f\"Converted {i + 1} out of {n_files} files.\")"
   ]
  },
  {
   "cell_type": "code",
   "execution_count": null,
   "metadata": {},
   "outputs": [],
   "source": []
  }
 ],
 "metadata": {
  "kernelspec": {
   "display_name": "Python 3",
   "language": "python",
   "name": "python3"
  },
  "language_info": {
   "codemirror_mode": {
    "name": "ipython",
    "version": 3
   },
   "file_extension": ".py",
   "mimetype": "text/x-python",
   "name": "python",
   "nbconvert_exporter": "python",
   "pygments_lexer": "ipython3",
   "version": "3.8.5"
  }
 },
 "nbformat": 4,
 "nbformat_minor": 4
}
